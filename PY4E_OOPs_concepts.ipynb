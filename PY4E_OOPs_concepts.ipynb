{
 "cells": [
  {
   "cell_type": "markdown",
   "metadata": {},
   "source": [
    "# Definitions, Part 1\n",
    "Class - a template or blueprint (a cookie cutter);  Method or Message - a defined capability of class (an objects ability eg. string.upper());  Field or Attribute - a bit of data in a class;  Object or Instance - a particular instance of a class, actual object created at runtime (a cookie)"
   ]
  },
  {
   "cell_type": "code",
   "execution_count": 8,
   "metadata": {},
   "outputs": [],
   "source": [
    "#Construction of a Class\n",
    "\n",
    "class PartyAnimal:\n",
    "    x = 0\n",
    "    \n",
    "    def party(self):\n",
    "        self.x = self.x + 1\n",
    "        print ('So far', self.x)    "
   ]
  },
  {
   "cell_type": "code",
   "execution_count": 9,
   "metadata": {},
   "outputs": [],
   "source": [
    "#class constructed\n",
    "an = PartyAnimal()"
   ]
  },
  {
   "cell_type": "code",
   "execution_count": 3,
   "metadata": {},
   "outputs": [
    {
     "name": "stdout",
     "output_type": "stream",
     "text": [
      "So far 1\n"
     ]
    }
   ],
   "source": [
    "#invoking of the methods within the object\n",
    "an.party()"
   ]
  },
  {
   "cell_type": "code",
   "execution_count": 5,
   "metadata": {},
   "outputs": [
    {
     "name": "stdout",
     "output_type": "stream",
     "text": [
      "So far 2\n"
     ]
    }
   ],
   "source": [
    "#Value 1 is set which is returned from previous run, run party function from object\n",
    "an.party()"
   ]
  },
  {
   "cell_type": "code",
   "execution_count": 6,
   "metadata": {},
   "outputs": [
    {
     "name": "stdout",
     "output_type": "stream",
     "text": [
      "So far 3\n"
     ]
    }
   ],
   "source": [
    "an.party()"
   ]
  },
  {
   "cell_type": "code",
   "execution_count": 10,
   "metadata": {},
   "outputs": [
    {
     "name": "stdout",
     "output_type": "stream",
     "text": [
      "Type <class '__main__.PartyAnimal'>\n",
      "Dir ['__class__', '__delattr__', '__dict__', '__dir__', '__doc__', '__eq__', '__format__', '__ge__', '__getattribute__', '__gt__', '__hash__', '__init__', '__init_subclass__', '__le__', '__lt__', '__module__', '__ne__', '__new__', '__reduce__', '__reduce_ex__', '__repr__', '__setattr__', '__sizeof__', '__str__', '__subclasshook__', '__weakref__', 'party', 'x']\n"
     ]
    }
   ],
   "source": [
    "print ('Type', type(an))\n",
    "\n",
    "#dir describes the capabilities of our newly created class\n",
    "print ('Dir', dir(an))"
   ]
  },
  {
   "cell_type": "markdown",
   "metadata": {},
   "source": [
    "# Objects Life Cycle - Part 2\n",
    "constructor and destruction"
   ]
  },
  {
   "cell_type": "code",
   "execution_count": 12,
   "metadata": {},
   "outputs": [],
   "source": [
    "#Construction of a Class\n",
    "\n",
    "class PartyAnimal:\n",
    "    x = 0\n",
    "\n",
    "    #constructor is typically used to setup variables\n",
    "    def __init__(self):\n",
    "        print (\"I'am constructed\")\n",
    "    \n",
    "    def party(self):\n",
    "        self.x = self.x + 1\n",
    "        print ('So far', self.x)  \n",
    "        \n",
    "    #destructor is seldom used\n",
    "    def __del__(self):\n",
    "        print (\"I'am destructed\", self.x)"
   ]
  },
  {
   "cell_type": "code",
   "execution_count": 13,
   "metadata": {},
   "outputs": [
    {
     "name": "stdout",
     "output_type": "stream",
     "text": [
      "I'am constructed\n"
     ]
    }
   ],
   "source": [
    "an = PartyAnimal()"
   ]
  },
  {
   "cell_type": "code",
   "execution_count": 14,
   "metadata": {},
   "outputs": [
    {
     "name": "stdout",
     "output_type": "stream",
     "text": [
      "So far 1\n"
     ]
    }
   ],
   "source": [
    "an.party()"
   ]
  },
  {
   "cell_type": "code",
   "execution_count": 15,
   "metadata": {},
   "outputs": [
    {
     "name": "stdout",
     "output_type": "stream",
     "text": [
      "So far 2\n"
     ]
    }
   ],
   "source": [
    "an.party()"
   ]
  },
  {
   "cell_type": "code",
   "execution_count": 16,
   "metadata": {},
   "outputs": [
    {
     "name": "stdout",
     "output_type": "stream",
     "text": [
      "I'am destructed 2\n"
     ]
    }
   ],
   "source": [
    "#varibale an set to an number, previous associated class gets destructed\n",
    "an = 42"
   ]
  },
  {
   "cell_type": "code",
   "execution_count": 17,
   "metadata": {},
   "outputs": [
    {
     "name": "stdout",
     "output_type": "stream",
     "text": [
      "an contains 42\n"
     ]
    }
   ],
   "source": [
    "print ('an contains', an)"
   ]
  },
  {
   "cell_type": "markdown",
   "metadata": {},
   "source": [
    "# Constructors parameters, Part 3"
   ]
  },
  {
   "cell_type": "code",
   "execution_count": 18,
   "metadata": {},
   "outputs": [],
   "source": [
    "#Construction of a Class\n",
    "\n",
    "class PartyAnimal:\n",
    "    x = 0\n",
    "    name = ''\n",
    "\n",
    "    #constructor is typically used to setup variables\n",
    "    def __init__(self, z):\n",
    "        self.name = z\n",
    "        print (self.name, \"constructed\")\n",
    "    \n",
    "    def party(self):\n",
    "        self.x = self.x + 1\n",
    "        print (self.name, 'party count', self.x)  "
   ]
  },
  {
   "cell_type": "markdown",
   "metadata": {},
   "source": [
    "More than one parameter is used here to setup instance variables for the particular instance of the class (like s and j). Both instances are independent."
   ]
  },
  {
   "cell_type": "code",
   "execution_count": 19,
   "metadata": {},
   "outputs": [
    {
     "name": "stdout",
     "output_type": "stream",
     "text": [
      "Sally constructed\n"
     ]
    }
   ],
   "source": [
    "s = PartyAnimal('Sally')"
   ]
  },
  {
   "cell_type": "code",
   "execution_count": 20,
   "metadata": {},
   "outputs": [
    {
     "name": "stdout",
     "output_type": "stream",
     "text": [
      "Sally party count 1\n"
     ]
    }
   ],
   "source": [
    "s.party()"
   ]
  },
  {
   "cell_type": "code",
   "execution_count": 21,
   "metadata": {},
   "outputs": [
    {
     "name": "stdout",
     "output_type": "stream",
     "text": [
      "Jim constructed\n"
     ]
    }
   ],
   "source": [
    "j = PartyAnimal('Jim')"
   ]
  },
  {
   "cell_type": "code",
   "execution_count": 22,
   "metadata": {},
   "outputs": [
    {
     "name": "stdout",
     "output_type": "stream",
     "text": [
      "Jim party count 1\n"
     ]
    }
   ],
   "source": [
    "j.party()"
   ]
  },
  {
   "cell_type": "code",
   "execution_count": 23,
   "metadata": {},
   "outputs": [
    {
     "name": "stdout",
     "output_type": "stream",
     "text": [
      "Sally party count 2\n"
     ]
    }
   ],
   "source": [
    "s.party()"
   ]
  },
  {
   "cell_type": "markdown",
   "metadata": {},
   "source": [
    "# Inheritance, Part 4\n",
    "ability to extend a class to make a new class (with subclass)"
   ]
  },
  {
   "cell_type": "code",
   "execution_count": 24,
   "metadata": {},
   "outputs": [],
   "source": [
    "#Construction of a Class\n",
    "\n",
    "class PartyAnimal:\n",
    "    x = 0\n",
    "    name = ''\n",
    "\n",
    "    #constructor is typically used to setup variables\n",
    "    def __init__(self, z):\n",
    "        self.name = z\n",
    "        print (self.name, \"constructed\")\n",
    "    \n",
    "    def party(self):\n",
    "        self.x = self.x + 1\n",
    "        print (self.name, 'party count', self.x)"
   ]
  },
  {
   "cell_type": "code",
   "execution_count": 32,
   "metadata": {},
   "outputs": [],
   "source": [
    "#FootballFan is a class which extends PartyAnimal, it has all capabilities of PartyAnimal and more..\n",
    "\n",
    "class FootballFan(PartyAnimal):\n",
    "    points = 0\n",
    "    def touchdown(self):\n",
    "        self.points = self.points + 7\n",
    "        self.party()\n",
    "        print (self.name, 'points', self.points)"
   ]
  },
  {
   "cell_type": "code",
   "execution_count": 26,
   "metadata": {},
   "outputs": [
    {
     "name": "stdout",
     "output_type": "stream",
     "text": [
      "Sally constructed\n"
     ]
    }
   ],
   "source": [
    "s = PartyAnimal('Sally')"
   ]
  },
  {
   "cell_type": "code",
   "execution_count": 27,
   "metadata": {},
   "outputs": [
    {
     "name": "stdout",
     "output_type": "stream",
     "text": [
      "Sally party count 1\n"
     ]
    }
   ],
   "source": [
    "s.party()"
   ]
  },
  {
   "cell_type": "code",
   "execution_count": 29,
   "metadata": {},
   "outputs": [
    {
     "name": "stdout",
     "output_type": "stream",
     "text": [
      "Jim constructed\n"
     ]
    }
   ],
   "source": [
    "j = FootballFan('Jim')"
   ]
  },
  {
   "cell_type": "code",
   "execution_count": 30,
   "metadata": {},
   "outputs": [
    {
     "name": "stdout",
     "output_type": "stream",
     "text": [
      "Jim party count 1\n"
     ]
    }
   ],
   "source": [
    "j.party()"
   ]
  },
  {
   "cell_type": "code",
   "execution_count": 33,
   "metadata": {},
   "outputs": [
    {
     "name": "stdout",
     "output_type": "stream",
     "text": [
      "Jim party count 3\n",
      "Jim points 14\n"
     ]
    }
   ],
   "source": [
    "# extended functionality\n",
    "j.touchdown()"
   ]
  },
  {
   "cell_type": "code",
   "execution_count": null,
   "metadata": {},
   "outputs": [],
   "source": []
  },
  {
   "cell_type": "code",
   "execution_count": null,
   "metadata": {},
   "outputs": [],
   "source": []
  }
 ],
 "metadata": {
  "kernelspec": {
   "display_name": "Python 3",
   "language": "python",
   "name": "python3"
  },
  "language_info": {
   "codemirror_mode": {
    "name": "ipython",
    "version": 3
   },
   "file_extension": ".py",
   "mimetype": "text/x-python",
   "name": "python",
   "nbconvert_exporter": "python",
   "pygments_lexer": "ipython3",
   "version": "3.6.5"
  }
 },
 "nbformat": 4,
 "nbformat_minor": 2
}
