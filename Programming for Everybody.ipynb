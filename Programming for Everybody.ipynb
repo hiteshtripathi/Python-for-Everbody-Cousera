{
 "cells": [
  {
   "cell_type": "markdown",
   "metadata": {},
   "source": [
    "# Assignment-1(week5)\n",
    "Write a program to prompt the user for hours and rate per hour using input to compute gross pay. Pay the hourly rate for the hours up to 40 and 1.5 times the hourly rate for all hours worked above 40 hours. Use 45 hours and a rate of 10.50 per hour to test the program (the pay should be 498.75). You should use input to read a string and float() to convert the string to a number. Do not worry about error checking the user input - assume the user types numbers properly."
   ]
  },
  {
   "cell_type": "code",
   "execution_count": null,
   "metadata": {},
   "outputs": [],
   "source": [
    "hrs = input(\"Enter Hours:\")\n",
    "float_hrs = float(hrs)\n",
    "\n",
    "rate = input('Enter Rate:')\n",
    "float_rate = float(rate)\n",
    "\n",
    "if  float_hrs > 40 :\n",
    "    pay = float_hrs * float_rate\n",
    "    op = (float_hrs - 40.0) * (float_rate * 0.5)\n",
    "    gross_pay =  pay + op\n",
    "else :\n",
    "    gross_pay = float_hrs * float_rate\n",
    "    \n",
    "print ('Pay:', gross_pay);"
   ]
  },
  {
   "cell_type": "markdown",
   "metadata": {},
   "source": [
    "# Assignment-2 (week5)\n",
    "Write a program to prompt for a score between 0.0 and 1.0. If the score is out of range, print an error. If the score is between 0.0 and 1.0, print a grade using the following table:\n",
    "Score Grade\n",
    ">= 0.9 A\n",
    ">= 0.8 B\n",
    ">= 0.7 C\n",
    ">= 0.6 D\n",
    "< 0.6 F\n",
    "If the user enters a value out of range, print a suitable error message and exit. For the test, enter a score of 0.85."
   ]
  },
  {
   "cell_type": "code",
   "execution_count": null,
   "metadata": {},
   "outputs": [],
   "source": [
    "score = input(\"Enter Score: \")\n",
    "fs = float(score)\n",
    "\n",
    "if 0.0 > fs:\n",
    "    print ('Please Enter between range 0.0 and 1.0')\n",
    "    \n",
    "elif  0.0 <= fs < 0.6:\n",
    "    print ('F')\n",
    "    \n",
    "elif 0.6 <= fs < 0.7:\n",
    "    print ('D')\n",
    "    \n",
    "elif 0.7 <= fs < 0.8:\n",
    "    print ('C')\n",
    "    \n",
    "elif 0.8 <= fs < 0.9:\n",
    "    print ('B')\n",
    "    \n",
    "elif 0.9 < fs >= 1.0:\n",
    "    print('A')\n",
    "    \n",
    "else:\n",
    "    print ('Please Enter between range 0.0 and 1.0');"
   ]
  },
  {
   "cell_type": "markdown",
   "metadata": {},
   "source": [
    "# Assignment-3(week6)\n",
    "Write a program to prompt the user for hours and rate per hour using input to compute gross pay. Pay should be the normal rate for hours up to 40 and time-and-a-half for the hourly rate for all hours worked above 40 hours. Put the logic to do the computation of pay in a function called computepay() and use the function to do the computation. The function should return a value. Use 45 hours and a rate of 10.50 per hour to test the program (the pay should be 498.75). You should use input to read a string and float() to convert the string to a number. Do not worry about error checking the user input unless you want to - you can assume the user types numbers properly. Do not name your variable sum or use the sum() function."
   ]
  },
  {
   "cell_type": "code",
   "execution_count": null,
   "metadata": {},
   "outputs": [],
   "source": [
    "def computepay(h,r):\n",
    "    if h < 40:\n",
    "        gross_pay = h * r\n",
    "    else:\n",
    "        ot_pay = (h-40) * r * 1.5\n",
    "        gross_pay = (40 * r) + ot_pay\n",
    "    return gross_pay\n",
    "\n",
    "hrs = input(\"Enter Hours:\")\n",
    "h = float(hrs)\n",
    "rate = input ('Enter rate:')\n",
    "r = float(rate)\n",
    "p = computepay(h,r)\n",
    "print(\"Pay\",p);"
   ]
  },
  {
   "cell_type": "markdown",
   "metadata": {},
   "source": [
    "# Assignment-4 (week7)\n",
    "Write a program that repeatedly prompts a user for integer numbers until the user enters 'done'. Once 'done' is entered, print out the largest and smallest of the numbers. If the user enters anything other than a valid number catch it with a try/except and put out an appropriate message and ignore the number. Enter 7, 2, bob, 10, and 4 and match the output below."
   ]
  },
  {
   "cell_type": "code",
   "execution_count": null,
   "metadata": {},
   "outputs": [],
   "source": [
    "largest = None\n",
    "smallest = None\n",
    "while True:\n",
    "    num = input(\"Enter a number: \")\n",
    "    if num == \"done\" : break\n",
    "    \n",
    "    try :\n",
    "        number = int(num)\n",
    "    except :\n",
    "        t = \"Invalid input\"\n",
    "        continue\n",
    "    for i in [number] :\n",
    "        if largest is None :\n",
    "            largest = i\n",
    "        elif i > largest :\n",
    "            largest = i\n",
    "    for i in [number] :\n",
    "        if smallest is None :\n",
    "            smallest = i\n",
    "        elif i < smallest :\n",
    "            smallest = i\n",
    "print(t)\n",
    "print(\"Maximum is\", largest)\n",
    "print(\"Minimum is\", smallest)"
   ]
  },
  {
   "cell_type": "code",
   "execution_count": null,
   "metadata": {},
   "outputs": [],
   "source": []
  }
 ],
 "metadata": {
  "kernelspec": {
   "display_name": "Python 3",
   "language": "python",
   "name": "python3"
  },
  "language_info": {
   "codemirror_mode": {
    "name": "ipython",
    "version": 3
   },
   "file_extension": ".py",
   "mimetype": "text/x-python",
   "name": "python",
   "nbconvert_exporter": "python",
   "pygments_lexer": "ipython3",
   "version": "3.7.0"
  }
 },
 "nbformat": 4,
 "nbformat_minor": 2
}
